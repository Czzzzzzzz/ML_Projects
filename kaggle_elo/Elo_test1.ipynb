{
 "cells": [
  {
   "cell_type": "markdown",
   "metadata": {},
   "source": [
    "train.csv: card_ids + information about the card itself + target\n",
    "test.csv: card_ids + information about the card itself\n",
    "\n",
    "historical_transaction: designed to join with train.csv, test.csv, merchants.csv\n",
    "new_merchant_transaction.csv: same\n",
    "\n",
    "merchants\n",
    "\n",
    "ideas:\n",
    "1. Join train, transaction, and merchants into a table.\n",
    "2. XGboost regression."
   ]
  },
  {
   "cell_type": "code",
   "execution_count": 28,
   "metadata": {
    "collapsed": true
   },
   "outputs": [],
   "source": [
    "import pandas as pd\n",
    "import numpy as np"
   ]
  },
  {
   "cell_type": "code",
   "execution_count": 29,
   "metadata": {
    "collapsed": true
   },
   "outputs": [],
   "source": [
    "train = pd.read_csv('train.csv')\n",
    "test = pd.read_csv('test.csv')\n",
    "# hist_trans = pd.read_csv('historical_transactions.csv')\n",
    "hist_trans = pd.read_csv('small_historical_transactions.csv')\n",
    "new_trans = pd.read_csv('new_merchant_transactions.csv')\n",
    "merchants = pd.read_csv('merchants.csv')"
   ]
  },
  {
   "cell_type": "code",
   "execution_count": 30,
   "metadata": {},
   "outputs": [
    {
     "data": {
      "text/plain": [
       "(29112361, 14)"
      ]
     },
     "execution_count": 30,
     "metadata": {},
     "output_type": "execute_result"
    }
   ],
   "source": [
    "hist_trans.shape"
   ]
  },
  {
   "cell_type": "code",
   "execution_count": 31,
   "metadata": {
    "collapsed": true
   },
   "outputs": [],
   "source": [
    "# combine hist_trans and new_trans\n",
    "# trans = \n",
    "\n",
    "# join train and hist_trans\n",
    "# card_trans = pd.merge(train, hist_trans, how='inner', on='card_id')\n",
    "# card_trans.to_csv('card_trans.csv')\n",
    "# card_trans = pd.read_csv('card_trans.csv')"
   ]
  },
  {
   "cell_type": "code",
   "execution_count": 32,
   "metadata": {
    "scrolled": true
   },
   "outputs": [],
   "source": [
    "# card_trans.head()"
   ]
  },
  {
   "cell_type": "code",
   "execution_count": 33,
   "metadata": {
    "scrolled": true
   },
   "outputs": [],
   "source": [
    "# print(card_trans['card_id'].unique().shape)\n",
    "# print(card_trans.shape)\n"
   ]
  },
  {
   "cell_type": "code",
   "execution_count": null,
   "metadata": {
    "collapsed": true
   },
   "outputs": [],
   "source": [
    "def generate_small_hist():\n",
    "    hist_trans = pd.read_csv('historical_transactions.csv')    \n",
    "    # get small parts of data occuring over the past two months\n",
    "    hist_trans['purchase_date'] = pd.to_datetime(hist_trans['purchase_date'])\n",
    "    # hist_trans['purchase_date'].describe()\n",
    "    small_hist = hist_trans[(hist_trans['purchase_date'] > '2018-01-01') & (hist_trans['purchase_date'] < '2018-03-01')]\n",
    "    small_hist.to_csv('small_historical_transactions_20180101_20180301.csv')\n",
    "    small_hist.dtypes"
   ]
  },
  {
   "cell_type": "code",
   "execution_count": 34,
   "metadata": {},
   "outputs": [
    {
     "data": {
      "text/plain": [
       "authorized_flag                 object\n",
       "card_id                         object\n",
       "city_id                          int64\n",
       "category_1                      object\n",
       "installments                     int64\n",
       "category_3                      object\n",
       "merchant_category_id             int64\n",
       "merchant_id                     object\n",
       "month_lag                        int64\n",
       "purchase_amount                float64\n",
       "purchase_date           datetime64[ns]\n",
       "category_2                     float64\n",
       "state_id                         int64\n",
       "subsector_id                     int64\n",
       "dtype: object"
      ]
     },
     "execution_count": 34,
     "metadata": {},
     "output_type": "execute_result"
    }
   ],
   "source": [
    "\n",
    "\n",
    "# testing snippets\n",
    "\n",
    "# test = hist_trans.head()\n",
    "# test['purchase_date'] = pd.to_datetime(test['purchase_date'])\n",
    "# test\n",
    "\n",
    "# # mask = test['purchase_date'] > '2017-6-1' & test['purchase_date'] < '2017-9-1'\n",
    "# mask = (test['purchase_date'] > '2017-06-01') & (test['purchase_date'] < '2017-09-01')\n",
    "# test_2 = test[mask]\n",
    "# test_3 = test_2['purchase_date']\n",
    "# test_3.describe()\n",
    "# # test_2.describe(include='all')"
   ]
  },
  {
   "cell_type": "code",
   "execution_count": 5,
   "metadata": {
    "collapsed": true
   },
   "outputs": [],
   "source": [
    "train_label = card_trans['target']\n",
    "train_data = card_trans.drop('target', axis=1)"
   ]
  },
  {
   "cell_type": "code",
   "execution_count": 6,
   "metadata": {
    "scrolled": false
   },
   "outputs": [
    {
     "data": {
      "text/html": [
       "<div>\n",
       "<style scoped>\n",
       "    .dataframe tbody tr th:only-of-type {\n",
       "        vertical-align: middle;\n",
       "    }\n",
       "\n",
       "    .dataframe tbody tr th {\n",
       "        vertical-align: top;\n",
       "    }\n",
       "\n",
       "    .dataframe thead th {\n",
       "        text-align: right;\n",
       "    }\n",
       "</style>\n",
       "<table border=\"1\" class=\"dataframe\">\n",
       "  <thead>\n",
       "    <tr style=\"text-align: right;\">\n",
       "      <th></th>\n",
       "      <th>first_active_month</th>\n",
       "      <th>card_id</th>\n",
       "      <th>feature_1</th>\n",
       "      <th>feature_2</th>\n",
       "      <th>feature_3</th>\n",
       "      <th>Unnamed: 0</th>\n",
       "      <th>authorized_flag</th>\n",
       "      <th>city_id</th>\n",
       "      <th>category_1</th>\n",
       "      <th>installments</th>\n",
       "      <th>category_3</th>\n",
       "      <th>merchant_category_id</th>\n",
       "      <th>merchant_id</th>\n",
       "      <th>month_lag</th>\n",
       "      <th>purchase_amount</th>\n",
       "      <th>purchase_date</th>\n",
       "      <th>category_2</th>\n",
       "      <th>state_id</th>\n",
       "      <th>subsector_id</th>\n",
       "    </tr>\n",
       "  </thead>\n",
       "  <tbody>\n",
       "    <tr>\n",
       "      <th>0</th>\n",
       "      <td>2017-06</td>\n",
       "      <td>C_ID_92a2005557</td>\n",
       "      <td>5</td>\n",
       "      <td>2</td>\n",
       "      <td>1</td>\n",
       "      <td>12454878</td>\n",
       "      <td>Y</td>\n",
       "      <td>69</td>\n",
       "      <td>N</td>\n",
       "      <td>0</td>\n",
       "      <td>A</td>\n",
       "      <td>560</td>\n",
       "      <td>M_ID_b3c49066d8</td>\n",
       "      <td>-1</td>\n",
       "      <td>-0.665614</td>\n",
       "      <td>2018-01-27 06:44:29</td>\n",
       "      <td>1.0</td>\n",
       "      <td>9</td>\n",
       "      <td>34</td>\n",
       "    </tr>\n",
       "    <tr>\n",
       "      <th>1</th>\n",
       "      <td>2017-06</td>\n",
       "      <td>C_ID_92a2005557</td>\n",
       "      <td>5</td>\n",
       "      <td>2</td>\n",
       "      <td>1</td>\n",
       "      <td>12454882</td>\n",
       "      <td>Y</td>\n",
       "      <td>69</td>\n",
       "      <td>N</td>\n",
       "      <td>0</td>\n",
       "      <td>A</td>\n",
       "      <td>560</td>\n",
       "      <td>M_ID_b3c49066d8</td>\n",
       "      <td>0</td>\n",
       "      <td>-0.595230</td>\n",
       "      <td>2018-02-25 09:25:39</td>\n",
       "      <td>1.0</td>\n",
       "      <td>9</td>\n",
       "      <td>34</td>\n",
       "    </tr>\n",
       "    <tr>\n",
       "      <th>2</th>\n",
       "      <td>2017-06</td>\n",
       "      <td>C_ID_92a2005557</td>\n",
       "      <td>5</td>\n",
       "      <td>2</td>\n",
       "      <td>1</td>\n",
       "      <td>12454898</td>\n",
       "      <td>Y</td>\n",
       "      <td>69</td>\n",
       "      <td>N</td>\n",
       "      <td>0</td>\n",
       "      <td>A</td>\n",
       "      <td>454</td>\n",
       "      <td>M_ID_6b718b517f</td>\n",
       "      <td>-1</td>\n",
       "      <td>-0.712347</td>\n",
       "      <td>2018-01-09 10:06:54</td>\n",
       "      <td>1.0</td>\n",
       "      <td>9</td>\n",
       "      <td>39</td>\n",
       "    </tr>\n",
       "    <tr>\n",
       "      <th>3</th>\n",
       "      <td>2017-06</td>\n",
       "      <td>C_ID_92a2005557</td>\n",
       "      <td>5</td>\n",
       "      <td>2</td>\n",
       "      <td>1</td>\n",
       "      <td>12454899</td>\n",
       "      <td>Y</td>\n",
       "      <td>69</td>\n",
       "      <td>N</td>\n",
       "      <td>0</td>\n",
       "      <td>A</td>\n",
       "      <td>879</td>\n",
       "      <td>M_ID_00a6ca8a8a</td>\n",
       "      <td>0</td>\n",
       "      <td>-0.707899</td>\n",
       "      <td>2018-02-17 09:39:17</td>\n",
       "      <td>1.0</td>\n",
       "      <td>9</td>\n",
       "      <td>29</td>\n",
       "    </tr>\n",
       "    <tr>\n",
       "      <th>4</th>\n",
       "      <td>2017-06</td>\n",
       "      <td>C_ID_92a2005557</td>\n",
       "      <td>5</td>\n",
       "      <td>2</td>\n",
       "      <td>1</td>\n",
       "      <td>12454901</td>\n",
       "      <td>Y</td>\n",
       "      <td>69</td>\n",
       "      <td>N</td>\n",
       "      <td>0</td>\n",
       "      <td>A</td>\n",
       "      <td>195</td>\n",
       "      <td>M_ID_cc72dac895</td>\n",
       "      <td>-1</td>\n",
       "      <td>-0.589580</td>\n",
       "      <td>2018-01-13 14:23:54</td>\n",
       "      <td>1.0</td>\n",
       "      <td>9</td>\n",
       "      <td>34</td>\n",
       "    </tr>\n",
       "  </tbody>\n",
       "</table>\n",
       "</div>"
      ],
      "text/plain": [
       "  first_active_month          card_id  feature_1  feature_2  feature_3  \\\n",
       "0            2017-06  C_ID_92a2005557          5          2          1   \n",
       "1            2017-06  C_ID_92a2005557          5          2          1   \n",
       "2            2017-06  C_ID_92a2005557          5          2          1   \n",
       "3            2017-06  C_ID_92a2005557          5          2          1   \n",
       "4            2017-06  C_ID_92a2005557          5          2          1   \n",
       "\n",
       "   Unnamed: 0 authorized_flag  city_id category_1  installments category_3  \\\n",
       "0    12454878               Y       69          N             0          A   \n",
       "1    12454882               Y       69          N             0          A   \n",
       "2    12454898               Y       69          N             0          A   \n",
       "3    12454899               Y       69          N             0          A   \n",
       "4    12454901               Y       69          N             0          A   \n",
       "\n",
       "   merchant_category_id      merchant_id  month_lag  purchase_amount  \\\n",
       "0                   560  M_ID_b3c49066d8         -1        -0.665614   \n",
       "1                   560  M_ID_b3c49066d8          0        -0.595230   \n",
       "2                   454  M_ID_6b718b517f         -1        -0.712347   \n",
       "3                   879  M_ID_00a6ca8a8a          0        -0.707899   \n",
       "4                   195  M_ID_cc72dac895         -1        -0.589580   \n",
       "\n",
       "         purchase_date  category_2  state_id  subsector_id  \n",
       "0  2018-01-27 06:44:29         1.0         9            34  \n",
       "1  2018-02-25 09:25:39         1.0         9            34  \n",
       "2  2018-01-09 10:06:54         1.0         9            39  \n",
       "3  2018-02-17 09:39:17         1.0         9            29  \n",
       "4  2018-01-13 14:23:54         1.0         9            34  "
      ]
     },
     "execution_count": 6,
     "metadata": {},
     "output_type": "execute_result"
    }
   ],
   "source": [
    "train_data.head()"
   ]
  },
  {
   "cell_type": "markdown",
   "metadata": {},
   "source": [
    "delete unmeaningful columns"
   ]
  },
  {
   "cell_type": "code",
   "execution_count": 7,
   "metadata": {
    "collapsed": true
   },
   "outputs": [],
   "source": [
    "#remove ids\n",
    "\n",
    "ids = ['card_id', 'subsector_id', 'city_id', 'merchant_category_id', 'merchant_id', 'state_id', 'subsector_id', 'subsector_id']\n",
    "\n",
    "train_data = train_data.drop(ids, axis=1)"
   ]
  },
  {
   "cell_type": "code",
   "execution_count": 8,
   "metadata": {},
   "outputs": [
    {
     "data": {
      "text/plain": [
       "array(['first_active_month', 'authorized_flag', 'category_1',\n",
       "       'category_3', 'purchase_date'], dtype=object)"
      ]
     },
     "execution_count": 8,
     "metadata": {},
     "output_type": "execute_result"
    }
   ],
   "source": [
    "cat_col = train_data.dtypes[train_data.dtypes == 'object'].index.values\n",
    "cat_col"
   ]
  },
  {
   "cell_type": "markdown",
   "metadata": {},
   "source": [
    "missing values"
   ]
  },
  {
   "cell_type": "code",
   "execution_count": 9,
   "metadata": {},
   "outputs": [
    {
     "data": {
      "text/plain": [
       "first_active_month    0.000000\n",
       "feature_1             0.000000\n",
       "feature_2             0.000000\n",
       "feature_3             0.000000\n",
       "Unnamed: 0            0.000000\n",
       "authorized_flag       0.000000\n",
       "category_1            0.000000\n",
       "installments          0.000000\n",
       "category_3            0.014265\n",
       "month_lag             0.000000\n",
       "purchase_amount       0.000000\n",
       "purchase_date         0.000000\n",
       "category_2            0.106382\n",
       "dtype: float64"
      ]
     },
     "execution_count": 9,
     "metadata": {},
     "output_type": "execute_result"
    }
   ],
   "source": [
    "missing_values = train_data.isna().sum() / train_data.shape[0]\n",
    "missing_values"
   ]
  },
  {
   "cell_type": "code",
   "execution_count": null,
   "metadata": {
    "collapsed": true
   },
   "outputs": [],
   "source": [
    "# study the distribution of columns containing missing values\n",
    "\n",
    "# small_train['category_3'].hist()"
   ]
  },
  {
   "cell_type": "code",
   "execution_count": 10,
   "metadata": {},
   "outputs": [
    {
     "data": {
      "text/plain": [
       "(3273086, 13)"
      ]
     },
     "execution_count": 10,
     "metadata": {},
     "output_type": "execute_result"
    }
   ],
   "source": [
    "train_data.shape"
   ]
  },
  {
   "cell_type": "code",
   "execution_count": null,
   "metadata": {
    "collapsed": true
   },
   "outputs": [],
   "source": [
    "# from sklearn.impute import SimpleImputer\n",
    "\n",
    "# imputer = SimpleImputer(strategy='most_frequent')\n",
    "# train_data = pd.DataFrame(imputer.fit_transform(train_data), columns = train_data.columns)\n",
    "# train_data.isna().sum() / train_data.shape[0]"
   ]
  },
  {
   "cell_type": "code",
   "execution_count": 11,
   "metadata": {
    "collapsed": true
   },
   "outputs": [],
   "source": [
    "def encode_feature(data, columns):\n",
    "    # encode each feature\n",
    "    for col in columns:\n",
    "        data[col] = data[col].astype('category')\n",
    "        data[col] = data[col].cat.codes    \n",
    "        \n",
    "encode_feature(train_data, cat_col)"
   ]
  },
  {
   "cell_type": "code",
   "execution_count": 12,
   "metadata": {},
   "outputs": [
    {
     "data": {
      "text/html": [
       "<div>\n",
       "<style scoped>\n",
       "    .dataframe tbody tr th:only-of-type {\n",
       "        vertical-align: middle;\n",
       "    }\n",
       "\n",
       "    .dataframe tbody tr th {\n",
       "        vertical-align: top;\n",
       "    }\n",
       "\n",
       "    .dataframe thead th {\n",
       "        text-align: right;\n",
       "    }\n",
       "</style>\n",
       "<table border=\"1\" class=\"dataframe\">\n",
       "  <thead>\n",
       "    <tr style=\"text-align: right;\">\n",
       "      <th></th>\n",
       "      <th>first_active_month</th>\n",
       "      <th>feature_1</th>\n",
       "      <th>feature_2</th>\n",
       "      <th>feature_3</th>\n",
       "      <th>Unnamed: 0</th>\n",
       "      <th>authorized_flag</th>\n",
       "      <th>category_1</th>\n",
       "      <th>installments</th>\n",
       "      <th>category_3</th>\n",
       "      <th>month_lag</th>\n",
       "      <th>purchase_amount</th>\n",
       "      <th>purchase_date</th>\n",
       "      <th>category_2</th>\n",
       "    </tr>\n",
       "  </thead>\n",
       "  <tbody>\n",
       "    <tr>\n",
       "      <th>0</th>\n",
       "      <td>65</td>\n",
       "      <td>5</td>\n",
       "      <td>2</td>\n",
       "      <td>1</td>\n",
       "      <td>12454878</td>\n",
       "      <td>1</td>\n",
       "      <td>0</td>\n",
       "      <td>0</td>\n",
       "      <td>0</td>\n",
       "      <td>-1</td>\n",
       "      <td>-0.665614</td>\n",
       "      <td>960144</td>\n",
       "      <td>1.0</td>\n",
       "    </tr>\n",
       "    <tr>\n",
       "      <th>1</th>\n",
       "      <td>65</td>\n",
       "      <td>5</td>\n",
       "      <td>2</td>\n",
       "      <td>1</td>\n",
       "      <td>12454882</td>\n",
       "      <td>1</td>\n",
       "      <td>0</td>\n",
       "      <td>0</td>\n",
       "      <td>0</td>\n",
       "      <td>0</td>\n",
       "      <td>-0.595230</td>\n",
       "      <td>2003829</td>\n",
       "      <td>1.0</td>\n",
       "    </tr>\n",
       "    <tr>\n",
       "      <th>2</th>\n",
       "      <td>65</td>\n",
       "      <td>5</td>\n",
       "      <td>2</td>\n",
       "      <td>1</td>\n",
       "      <td>12454898</td>\n",
       "      <td>1</td>\n",
       "      <td>0</td>\n",
       "      <td>0</td>\n",
       "      <td>0</td>\n",
       "      <td>-1</td>\n",
       "      <td>-0.712347</td>\n",
       "      <td>281542</td>\n",
       "      <td>1.0</td>\n",
       "    </tr>\n",
       "    <tr>\n",
       "      <th>3</th>\n",
       "      <td>65</td>\n",
       "      <td>5</td>\n",
       "      <td>2</td>\n",
       "      <td>1</td>\n",
       "      <td>12454899</td>\n",
       "      <td>1</td>\n",
       "      <td>0</td>\n",
       "      <td>0</td>\n",
       "      <td>0</td>\n",
       "      <td>0</td>\n",
       "      <td>-0.707899</td>\n",
       "      <td>1707635</td>\n",
       "      <td>1.0</td>\n",
       "    </tr>\n",
       "    <tr>\n",
       "      <th>4</th>\n",
       "      <td>65</td>\n",
       "      <td>5</td>\n",
       "      <td>2</td>\n",
       "      <td>1</td>\n",
       "      <td>12454901</td>\n",
       "      <td>1</td>\n",
       "      <td>0</td>\n",
       "      <td>0</td>\n",
       "      <td>0</td>\n",
       "      <td>-1</td>\n",
       "      <td>-0.589580</td>\n",
       "      <td>449232</td>\n",
       "      <td>1.0</td>\n",
       "    </tr>\n",
       "  </tbody>\n",
       "</table>\n",
       "</div>"
      ],
      "text/plain": [
       "   first_active_month  feature_1  feature_2  feature_3  Unnamed: 0  \\\n",
       "0                  65          5          2          1    12454878   \n",
       "1                  65          5          2          1    12454882   \n",
       "2                  65          5          2          1    12454898   \n",
       "3                  65          5          2          1    12454899   \n",
       "4                  65          5          2          1    12454901   \n",
       "\n",
       "   authorized_flag  category_1  installments  category_3  month_lag  \\\n",
       "0                1           0             0           0         -1   \n",
       "1                1           0             0           0          0   \n",
       "2                1           0             0           0         -1   \n",
       "3                1           0             0           0          0   \n",
       "4                1           0             0           0         -1   \n",
       "\n",
       "   purchase_amount  purchase_date  category_2  \n",
       "0        -0.665614         960144         1.0  \n",
       "1        -0.595230        2003829         1.0  \n",
       "2        -0.712347         281542         1.0  \n",
       "3        -0.707899        1707635         1.0  \n",
       "4        -0.589580         449232         1.0  "
      ]
     },
     "execution_count": 12,
     "metadata": {},
     "output_type": "execute_result"
    }
   ],
   "source": [
    "train_data.head()\n",
    "# train_data.columns"
   ]
  },
  {
   "cell_type": "code",
   "execution_count": 13,
   "metadata": {
    "collapsed": true
   },
   "outputs": [],
   "source": [
    "import xgboost as xgb\n",
    "\n",
    "from sklearn.model_selection import GridSearchCV\n",
    "from sklearn.model_selection import cross_val_score\n",
    "\n",
    "import os\n",
    "os.environ[\"KMP_DUPLICATE_LIB_OK\"]=\"TRUE\""
   ]
  },
  {
   "cell_type": "code",
   "execution_count": 14,
   "metadata": {
    "collapsed": true
   },
   "outputs": [],
   "source": [
    "def grid_eval(model, train_data, train_label, params):\n",
    "    grid = GridSearchCV(cls, param_grid=params, cv=5, scoring='neg_mean_squared_error')\n",
    "    grid_res = grid.fit(train_data, train_label)\n",
    "\n",
    "    print('best parameters: ', grid_res.best_params_)\n",
    "    print('best results: ', np.sqrt(np.mean(-cross_val_score(grid_res.best_estimator_, train_data, train_label, cv=5, scoring='neg_mean_squared_error'))))\n",
    "    \n",
    "def cv_eval(model, train_data, train_label):\n",
    "    print('best results: ', np.sqrt(np.mean(-cross_val_score(model, train_data, train_label, cv=5, scoring='neg_mean_squared_error'))))"
   ]
  },
  {
   "cell_type": "code",
   "execution_count": 15,
   "metadata": {},
   "outputs": [
    {
     "name": "stdout",
     "output_type": "stream",
     "text": [
      "best results:  1.9495646850817872\n"
     ]
    }
   ],
   "source": [
    "params = [{\"n_estimators\":[100]}]\n",
    "\n",
    "cls = xgb.XGBRegressor(n_estimators=100)\n",
    "\n",
    "# grid = GridSearchCV(cls, param_grid=params, cv=5, scoring='neg_mean_squared_error')\n",
    "# grid_res = grid.fit(train_data, train_label)\n",
    "\n",
    "# print('best parameters: ', grid_res.best_params_)\n",
    "# print('best results: ', np.sqrt(np.mean(-cross_val_score(grid_res.best_estimator_, train_data, train_label, cv=5, scoring='neg_mean_squared_error'))))\n",
    "\n",
    "cv_eval(cls, train_data, train_label)"
   ]
  },
  {
   "cell_type": "code",
   "execution_count": 1,
   "metadata": {},
   "outputs": [
    {
     "name": "stdout",
     "output_type": "stream",
     "text": [
      "a\n",
      "CPU times: user 366 µs, sys: 209 µs, total: 575 µs\n",
      "Wall time: 306 µs\n"
     ]
    }
   ],
   "source": [
    "%%time\n",
    "\n",
    "print('a')"
   ]
  }
 ],
 "metadata": {
  "kernelspec": {
   "display_name": "Python 3",
   "language": "python",
   "name": "python3"
  },
  "language_info": {
   "codemirror_mode": {
    "name": "ipython",
    "version": 3
   },
   "file_extension": ".py",
   "mimetype": "text/x-python",
   "name": "python",
   "nbconvert_exporter": "python",
   "pygments_lexer": "ipython3",
   "version": "3.6.3"
  }
 },
 "nbformat": 4,
 "nbformat_minor": 2
}
