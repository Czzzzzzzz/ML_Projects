{
 "cells": [
  {
   "cell_type": "code",
   "execution_count": 1,
   "metadata": {},
   "outputs": [
    {
     "name": "stderr",
     "output_type": "stream",
     "text": [
      "/Users/zhengcao/anaconda3/lib/python3.6/site-packages/lightgbm/__init__.py:46: UserWarning: Starting from version 2.2.1, the library file in distribution wheels for macOS is built by the Apple Clang (Xcode_9.4.1) compiler.\n",
      "This means that in case of installing LightGBM from PyPI via the ``pip install lightgbm`` command, you don't need to install the gcc compiler anymore.\n",
      "Instead of that, you need to install the OpenMP library, which is required for running LightGBM on the system with the Apple Clang compiler.\n",
      "You can install the OpenMP library by the following command: ``brew install libomp``.\n",
      "  \"You can install the OpenMP library by the following command: ``brew install libomp``.\", UserWarning)\n"
     ]
    }
   ],
   "source": [
    "import numpy as np\n",
    "import pandas as pd\n",
    "import datetime\n",
    "import gc\n",
    "import matplotlib.pyplot as plt\n",
    "import seaborn as sns\n",
    "\n",
    "import lightgbm as lgb\n",
    "\n",
    "from sklearn.preprocessing import PolynomialFeatures\n",
    "\n",
    "from sklearn.svm import SVR\n",
    "from sklearn.linear_model import Lasso\n",
    "from sklearn.linear_model import Ridge\n",
    "from sklearn.kernel_ridge import KernelRidge\n",
    "\n",
    "from sklearn.decomposition import PCA\n",
    "from sklearn.model_selection import StratifiedKFold\n",
    "from sklearn.model_selection import cross_val_score\n",
    "from sklearn.model_selection import GridSearchCV\n",
    "from sklearn.metrics import mean_squared_error\n",
    "\n",
    "from sklearn.pipeline import Pipeline\n",
    "\n",
    "import warnings\n",
    "warnings.filterwarnings('ignore')\n",
    "np.random.seed(4590)\n"
   ]
  },
  {
   "cell_type": "code",
   "execution_count": 3,
   "metadata": {
    "collapsed": true
   },
   "outputs": [],
   "source": [
    "train_X = pd.read_csv('./intermediate/train.csv') \n",
    "train_y = pd.read_csv('./intermediate/target.csv', header=-1)\n",
    "test_X = pd.read_csv('./intermediate/test.csv')\n",
    "ids = pd.read_csv('./intermediate/sample_submission.csv')['card_id']"
   ]
  },
  {
   "cell_type": "code",
   "execution_count": 34,
   "metadata": {
    "collapsed": true
   },
   "outputs": [],
   "source": [
    "train_X['outliers'] = 0\n",
    "outliers_index = train_y < -30\n",
    "outliers_index = outliers_index.values.ravel()\n",
    "train_X.loc[outliers_index, 'outliers'] = 1"
   ]
  },
  {
   "cell_type": "code",
   "execution_count": 37,
   "metadata": {
    "collapsed": true
   },
   "outputs": [],
   "source": [
    "df_train_columns = [c for c in train_X.columns if c not in ['outliers']]"
   ]
  },
  {
   "cell_type": "code",
   "execution_count": 39,
   "metadata": {},
   "outputs": [
    {
     "name": "stdout",
     "output_type": "stream",
     "text": [
      "fold 0\n",
      "Training until validation scores don't improve for 100 rounds.\n",
      "[100]\ttraining's rmse: 3.66825\tvalid_1's rmse: 3.72318\n",
      "[200]\ttraining's rmse: 3.59316\tvalid_1's rmse: 3.69056\n",
      "[300]\ttraining's rmse: 3.54789\tvalid_1's rmse: 3.67764\n",
      "[400]\ttraining's rmse: 3.51206\tvalid_1's rmse: 3.6708\n",
      "[500]\ttraining's rmse: 3.48366\tvalid_1's rmse: 3.66614\n",
      "[600]\ttraining's rmse: 3.45888\tvalid_1's rmse: 3.66292\n",
      "[700]\ttraining's rmse: 3.43548\tvalid_1's rmse: 3.66061\n",
      "[800]\ttraining's rmse: 3.41509\tvalid_1's rmse: 3.65962\n",
      "[900]\ttraining's rmse: 3.39755\tvalid_1's rmse: 3.65849\n",
      "[1000]\ttraining's rmse: 3.37988\tvalid_1's rmse: 3.65757\n",
      "[1100]\ttraining's rmse: 3.36357\tvalid_1's rmse: 3.65719\n",
      "[1200]\ttraining's rmse: 3.34757\tvalid_1's rmse: 3.65616\n",
      "[1300]\ttraining's rmse: 3.33177\tvalid_1's rmse: 3.656\n",
      "Early stopping, best iteration is:\n",
      "[1286]\ttraining's rmse: 3.33412\tvalid_1's rmse: 3.6557\n",
      "fold 1\n",
      "Training until validation scores don't improve for 100 rounds.\n",
      "[100]\ttraining's rmse: 3.66902\tvalid_1's rmse: 3.71659\n",
      "[200]\ttraining's rmse: 3.59343\tvalid_1's rmse: 3.68604\n",
      "[300]\ttraining's rmse: 3.54664\tvalid_1's rmse: 3.67546\n",
      "[400]\ttraining's rmse: 3.51101\tvalid_1's rmse: 3.66846\n",
      "[500]\ttraining's rmse: 3.48277\tvalid_1's rmse: 3.66439\n",
      "[600]\ttraining's rmse: 3.45843\tvalid_1's rmse: 3.66207\n",
      "[700]\ttraining's rmse: 3.4353\tvalid_1's rmse: 3.66054\n",
      "[800]\ttraining's rmse: 3.41566\tvalid_1's rmse: 3.6594\n",
      "[900]\ttraining's rmse: 3.39694\tvalid_1's rmse: 3.65848\n",
      "[1000]\ttraining's rmse: 3.37987\tvalid_1's rmse: 3.65825\n",
      "[1100]\ttraining's rmse: 3.36337\tvalid_1's rmse: 3.65714\n",
      "[1200]\ttraining's rmse: 3.34739\tvalid_1's rmse: 3.65705\n",
      "[1300]\ttraining's rmse: 3.33256\tvalid_1's rmse: 3.65699\n",
      "Early stopping, best iteration is:\n",
      "[1231]\ttraining's rmse: 3.34277\tvalid_1's rmse: 3.65676\n",
      "fold 2\n",
      "Training until validation scores don't improve for 100 rounds.\n",
      "[100]\ttraining's rmse: 3.66837\tvalid_1's rmse: 3.72092\n",
      "[200]\ttraining's rmse: 3.59327\tvalid_1's rmse: 3.68951\n",
      "[300]\ttraining's rmse: 3.54776\tvalid_1's rmse: 3.67565\n",
      "[400]\ttraining's rmse: 3.51263\tvalid_1's rmse: 3.66831\n",
      "[500]\ttraining's rmse: 3.48363\tvalid_1's rmse: 3.66357\n",
      "[600]\ttraining's rmse: 3.45911\tvalid_1's rmse: 3.65937\n",
      "[700]\ttraining's rmse: 3.43715\tvalid_1's rmse: 3.65737\n",
      "[800]\ttraining's rmse: 3.41672\tvalid_1's rmse: 3.65617\n",
      "[900]\ttraining's rmse: 3.39863\tvalid_1's rmse: 3.6551\n",
      "[1000]\ttraining's rmse: 3.38013\tvalid_1's rmse: 3.65411\n",
      "[1100]\ttraining's rmse: 3.36409\tvalid_1's rmse: 3.65362\n",
      "[1200]\ttraining's rmse: 3.34848\tvalid_1's rmse: 3.65311\n",
      "[1300]\ttraining's rmse: 3.33323\tvalid_1's rmse: 3.65248\n",
      "[1400]\ttraining's rmse: 3.31956\tvalid_1's rmse: 3.65228\n",
      "Early stopping, best iteration is:\n",
      "[1345]\ttraining's rmse: 3.32697\tvalid_1's rmse: 3.65222\n",
      "fold 3\n",
      "Training until validation scores don't improve for 100 rounds.\n",
      "[100]\ttraining's rmse: 3.66679\tvalid_1's rmse: 3.72279\n",
      "[200]\ttraining's rmse: 3.58995\tvalid_1's rmse: 3.69311\n",
      "[300]\ttraining's rmse: 3.54337\tvalid_1's rmse: 3.68058\n",
      "[400]\ttraining's rmse: 3.50807\tvalid_1's rmse: 3.6733\n",
      "[500]\ttraining's rmse: 3.47847\tvalid_1's rmse: 3.66785\n",
      "[600]\ttraining's rmse: 3.4541\tvalid_1's rmse: 3.66472\n",
      "[700]\ttraining's rmse: 3.43123\tvalid_1's rmse: 3.6631\n",
      "[800]\ttraining's rmse: 3.41099\tvalid_1's rmse: 3.66138\n",
      "[900]\ttraining's rmse: 3.39176\tvalid_1's rmse: 3.6604\n",
      "[1000]\ttraining's rmse: 3.37549\tvalid_1's rmse: 3.6595\n",
      "[1100]\ttraining's rmse: 3.35851\tvalid_1's rmse: 3.65917\n",
      "[1200]\ttraining's rmse: 3.34303\tvalid_1's rmse: 3.65851\n",
      "[1300]\ttraining's rmse: 3.32644\tvalid_1's rmse: 3.65801\n",
      "[1400]\ttraining's rmse: 3.31184\tvalid_1's rmse: 3.6574\n",
      "[1500]\ttraining's rmse: 3.29719\tvalid_1's rmse: 3.65666\n",
      "[1600]\ttraining's rmse: 3.28179\tvalid_1's rmse: 3.65653\n",
      "[1700]\ttraining's rmse: 3.26807\tvalid_1's rmse: 3.65604\n",
      "[1800]\ttraining's rmse: 3.25355\tvalid_1's rmse: 3.65588\n",
      "Early stopping, best iteration is:\n",
      "[1780]\ttraining's rmse: 3.25644\tvalid_1's rmse: 3.65568\n",
      "fold 4\n",
      "Training until validation scores don't improve for 100 rounds.\n",
      "[100]\ttraining's rmse: 3.66959\tvalid_1's rmse: 3.70744\n",
      "[200]\ttraining's rmse: 3.59192\tvalid_1's rmse: 3.67791\n",
      "[300]\ttraining's rmse: 3.54518\tvalid_1's rmse: 3.66753\n",
      "[400]\ttraining's rmse: 3.50866\tvalid_1's rmse: 3.66186\n",
      "[500]\ttraining's rmse: 3.47974\tvalid_1's rmse: 3.65825\n",
      "[600]\ttraining's rmse: 3.45413\tvalid_1's rmse: 3.65658\n",
      "[700]\ttraining's rmse: 3.43049\tvalid_1's rmse: 3.65535\n",
      "[800]\ttraining's rmse: 3.40976\tvalid_1's rmse: 3.65508\n",
      "[900]\ttraining's rmse: 3.39075\tvalid_1's rmse: 3.65476\n",
      "[1000]\ttraining's rmse: 3.37413\tvalid_1's rmse: 3.65433\n",
      "[1100]\ttraining's rmse: 3.3569\tvalid_1's rmse: 3.65436\n",
      "Early stopping, best iteration is:\n",
      "[1085]\ttraining's rmse: 3.35945\tvalid_1's rmse: 3.65416\n"
     ]
    },
    {
     "data": {
      "text/plain": [
       "3.6549059010562677"
      ]
     },
     "execution_count": 39,
     "metadata": {},
     "output_type": "execute_result"
    }
   ],
   "source": [
    "param = {'num_leaves': 31,\n",
    "         'min_data_in_leaf': 30, \n",
    "         'objective':'regression',\n",
    "         'max_depth': -1,\n",
    "         'learning_rate': 0.01,\n",
    "         \"min_child_samples\": 20,\n",
    "         \"boosting\": \"gbdt\",\n",
    "         \"feature_fraction\": 0.9,\n",
    "         \"bagging_freq\": 1,\n",
    "         \"bagging_fraction\": 0.9 ,\n",
    "         \"bagging_seed\": 11,\n",
    "         \"metric\": 'rmse',\n",
    "         \"lambda_l1\": 0.1,\n",
    "         \"verbosity\": -1,\n",
    "         \"nthread\": 4,\n",
    "         \"random_state\": 4590}\n",
    "folds = StratifiedKFold(n_splits=5, shuffle=True, random_state=4590)\n",
    "oof = np.zeros(len(train_X))\n",
    "predictions = np.zeros(len(test_X))\n",
    "feature_importance_df = pd.DataFrame()\n",
    "\n",
    "for fold_, (trn_idx, val_idx) in enumerate(folds.split(train_X, train_X['outliers'].values)):\n",
    "    print(\"fold {}\".format(fold_))\n",
    "    trn_data = lgb.Dataset(train_X.iloc[trn_idx][df_train_columns], label=train_y.iloc[trn_idx])#, categorical_feature=categorical_feats)\n",
    "    val_data = lgb.Dataset(train_X.iloc[val_idx][df_train_columns], label=train_y.iloc[val_idx])#, categorical_feature=categorical_feats)\n",
    "    num_round = 10000\n",
    "    clf = lgb.train(param, trn_data, num_round, valid_sets = [trn_data, val_data], verbose_eval=100, early_stopping_rounds = 100)\n",
    "    oof[val_idx] = clf.predict(train_X.iloc[val_idx][df_train_columns], num_iteration=clf.best_iteration)\n",
    "    \n",
    "    fold_importance_df = pd.DataFrame()\n",
    "    fold_importance_df[\"Feature\"] = df_train_columns\n",
    "    fold_importance_df[\"importance\"] = clf.feature_importance()\n",
    "    fold_importance_df[\"fold\"] = fold_ + 1\n",
    "    feature_importance_df = pd.concat([feature_importance_df, fold_importance_df], axis=0)\n",
    "    \n",
    "    predictions += clf.predict(test_X[df_train_columns], num_iteration=clf.best_iteration) / folds.n_splits\n",
    "\n",
    "np.sqrt(mean_squared_error(oof, train_y))"
   ]
  },
  {
   "cell_type": "code",
   "execution_count": 40,
   "metadata": {
    "collapsed": true
   },
   "outputs": [],
   "source": [
    "cols = (feature_importance_df[[\"Feature\", \"importance\"]]\n",
    "        .groupby(\"Feature\")\n",
    "        .mean()\n",
    "        .sort_values(by=\"importance\", ascending=False)[:1000].index)\n",
    "\n",
    "best_features = feature_importance_df.loc[feature_importance_df.Feature.isin(cols)]\n",
    "\n",
    "plt.figure(figsize=(14,25))\n",
    "sns.barplot(x=\"importance\",\n",
    "            y=\"Feature\",\n",
    "            data=best_features.sort_values(by=\"importance\",\n",
    "                                           ascending=False))\n",
    "plt.title('LightGBM Features (avg over folds)')\n",
    "plt.tight_layout()\n",
    "plt.savefig('lgbm_importances.png')"
   ]
  },
  {
   "cell_type": "code",
   "execution_count": 41,
   "metadata": {
    "collapsed": true
   },
   "outputs": [],
   "source": [
    "sub_df = pd.DataFrame({\"card_id\": ids.values})\n",
    "sub_df[\"target\"] = predictions\n",
    "sub_df.to_csv(\"./output/lightgbm.csv\", index=False)"
   ]
  }
 ],
 "metadata": {
  "kernelspec": {
   "display_name": "Python 3",
   "language": "python",
   "name": "python3"
  },
  "language_info": {
   "codemirror_mode": {
    "name": "ipython",
    "version": 3
   },
   "file_extension": ".py",
   "mimetype": "text/x-python",
   "name": "python",
   "nbconvert_exporter": "python",
   "pygments_lexer": "ipython3",
   "version": "3.6.8"
  }
 },
 "nbformat": 4,
 "nbformat_minor": 2
}
