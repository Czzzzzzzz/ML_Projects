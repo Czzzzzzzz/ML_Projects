{
 "cells": [
  {
   "cell_type": "markdown",
   "metadata": {},
   "source": [
    "# Multi-class and Multi-Label classification Using Support Vector Machines"
   ]
  },
  {
   "cell_type": "code",
   "execution_count": 15,
   "metadata": {},
   "outputs": [],
   "source": [
    "import pandas as pd\n",
    "import numpy as np\n",
    "\n",
    "from sklearn.model_selection import train_test_split"
   ]
  },
  {
   "cell_type": "code",
   "execution_count": 12,
   "metadata": {
    "collapsed": true
   },
   "outputs": [],
   "source": [
    "data = pd.read_csv('Frogs_MFCCs.csv')\n",
    "\n",
    "data_all = data.iloc[:, :-4]\n",
    "label_all = data.iloc[:, -4:-1]\n",
    "\n",
    "train_data, test_data, train_label, test_label = train_test_split(data_all, label_all, test_size=0.3)"
   ]
  },
  {
   "cell_type": "code",
   "execution_count": 13,
   "metadata": {
    "scrolled": true
   },
   "outputs": [
    {
     "data": {
      "text/plain": [
       "(5036, 22)"
      ]
     },
     "execution_count": 13,
     "metadata": {},
     "output_type": "execute_result"
    }
   ],
   "source": [
    "train_data.shape"
   ]
  },
  {
   "cell_type": "code",
   "execution_count": 14,
   "metadata": {},
   "outputs": [
    {
     "data": {
      "text/plain": [
       "(7195, 26)"
      ]
     },
     "execution_count": 14,
     "metadata": {},
     "output_type": "execute_result"
    }
   ],
   "source": [
    "data.shape"
   ]
  },
  {
   "cell_type": "code",
   "execution_count": 23,
   "metadata": {
    "collapsed": true
   },
   "outputs": [],
   "source": [
    "from sklearn.svm import SVC\n",
    "from sklearn.model_selection import cross_val_score\n",
    "from sklearn.multioutput import MultiOutputClassifier\n",
    "\n",
    "from sklearn.metrics import hamming_loss\n",
    "from sklearn.metrics import make_scorer"
   ]
  },
  {
   "cell_type": "code",
   "execution_count": 24,
   "metadata": {},
   "outputs": [
    {
     "name": "stdout",
     "output_type": "stream",
     "text": [
      "penalty 0.000, gamma 0.100\n",
      "penalty 0.000, gamma 0.200\n",
      "penalty 0.000, gamma 0.300\n",
      "penalty 0.000, gamma 0.400\n",
      "penalty 0.000, gamma 0.500\n",
      "penalty 0.000, gamma 0.600\n",
      "penalty 0.000, gamma 0.700\n",
      "penalty 0.000, gamma 0.800\n",
      "penalty 0.000, gamma 0.900\n",
      "penalty 0.000, gamma 0.100\n",
      "penalty 0.000, gamma 0.200\n",
      "penalty 0.000, gamma 0.300\n",
      "penalty 0.000, gamma 0.400\n",
      "penalty 0.000, gamma 0.500\n",
      "penalty 0.000, gamma 0.600\n",
      "penalty 0.000, gamma 0.700\n",
      "penalty 0.000, gamma 0.800\n",
      "penalty 0.000, gamma 0.900\n",
      "penalty 0.002, gamma 0.100\n",
      "penalty 0.002, gamma 0.200\n",
      "penalty 0.002, gamma 0.300\n",
      "penalty 0.002, gamma 0.400\n",
      "penalty 0.002, gamma 0.500\n",
      "penalty 0.002, gamma 0.600\n",
      "penalty 0.002, gamma 0.700\n",
      "penalty 0.002, gamma 0.800\n",
      "penalty 0.002, gamma 0.900\n",
      "penalty 0.010, gamma 0.100\n",
      "penalty 0.010, gamma 0.200\n",
      "penalty 0.010, gamma 0.300\n",
      "penalty 0.010, gamma 0.400\n",
      "penalty 0.010, gamma 0.500\n",
      "penalty 0.010, gamma 0.600\n",
      "penalty 0.010, gamma 0.700\n",
      "penalty 0.010, gamma 0.800\n",
      "penalty 0.010, gamma 0.900\n",
      "penalty 0.046, gamma 0.100\n",
      "penalty 0.046, gamma 0.200\n",
      "penalty 0.046, gamma 0.300\n",
      "penalty 0.046, gamma 0.400\n",
      "penalty 0.046, gamma 0.500\n",
      "penalty 0.046, gamma 0.600\n",
      "penalty 0.046, gamma 0.700\n",
      "penalty 0.046, gamma 0.800\n",
      "penalty 0.046, gamma 0.900\n",
      "penalty 0.215, gamma 0.100\n",
      "penalty 0.215, gamma 0.200\n",
      "penalty 0.215, gamma 0.300\n",
      "penalty 0.215, gamma 0.400\n",
      "penalty 0.215, gamma 0.500\n",
      "penalty 0.215, gamma 0.600\n",
      "penalty 0.215, gamma 0.700\n",
      "penalty 0.215, gamma 0.800\n",
      "penalty 0.215, gamma 0.900\n",
      "penalty 1.000, gamma 0.100\n",
      "penalty 1.000, gamma 0.200\n",
      "penalty 1.000, gamma 0.300\n",
      "penalty 1.000, gamma 0.400\n",
      "penalty 1.000, gamma 0.500\n",
      "penalty 1.000, gamma 0.600\n",
      "penalty 1.000, gamma 0.700\n",
      "penalty 1.000, gamma 0.800\n",
      "penalty 1.000, gamma 0.900\n",
      "penalty 4.642, gamma 0.100\n",
      "penalty 4.642, gamma 0.200\n",
      "penalty 4.642, gamma 0.300\n",
      "penalty 4.642, gamma 0.400\n",
      "penalty 4.642, gamma 0.500\n",
      "penalty 4.642, gamma 0.600\n",
      "penalty 4.642, gamma 0.700\n",
      "penalty 4.642, gamma 0.800\n",
      "penalty 4.642, gamma 0.900\n",
      "penalty 21.544, gamma 0.100\n",
      "penalty 21.544, gamma 0.200\n",
      "penalty 21.544, gamma 0.300\n",
      "penalty 21.544, gamma 0.400\n",
      "penalty 21.544, gamma 0.500\n",
      "penalty 21.544, gamma 0.600\n",
      "penalty 21.544, gamma 0.700\n",
      "penalty 21.544, gamma 0.800\n",
      "penalty 21.544, gamma 0.900\n",
      "penalty 100.000, gamma 0.100\n",
      "penalty 100.000, gamma 0.200\n",
      "penalty 100.000, gamma 0.300\n",
      "penalty 100.000, gamma 0.400\n",
      "penalty 100.000, gamma 0.500\n",
      "penalty 100.000, gamma 0.600\n",
      "penalty 100.000, gamma 0.700\n",
      "penalty 100.000, gamma 0.800\n",
      "penalty 100.000, gamma 0.900\n"
     ]
    },
    {
     "data": {
      "text/plain": [
       "[]"
      ]
     },
     "execution_count": 24,
     "metadata": {},
     "output_type": "execute_result"
    }
   ],
   "source": [
    "penalties = np.logspace(-4, 2, 10)\n",
    "gammas = np.arange(0.1, 1, 0.1)\n",
    "\n",
    "hamming_loss_scorer = make_scorer(hamming_loss)\n",
    "\n",
    "cvs = []\n",
    "for penalty in penalties:\n",
    "    for gamma in gammas:\n",
    "        print('penalty %.3f, gamma %.3f' % (penalty, gamma))\n",
    "        svc = SVC(C=penalty, gamma=gamma)\n",
    "        multi_svc = MultiOutputClassifier(svc)\n",
    "        cvs.append(np.mean(cross_val_score(multi_svc, train_data, train_label, scoring=hamming_loss_scorer, cv=10)))\n",
    "        \n",
    "\n",
    "cvs        "
   ]
  }
 ],
 "metadata": {
  "kernelspec": {
   "display_name": "Python 3",
   "language": "python",
   "name": "python3"
  },
  "language_info": {
   "codemirror_mode": {
    "name": "ipython",
    "version": 3
   },
   "file_extension": ".py",
   "mimetype": "text/x-python",
   "name": "python",
   "nbconvert_exporter": "python",
   "pygments_lexer": "ipython3",
   "version": "3.6.3"
  }
 },
 "nbformat": 4,
 "nbformat_minor": 2
}
