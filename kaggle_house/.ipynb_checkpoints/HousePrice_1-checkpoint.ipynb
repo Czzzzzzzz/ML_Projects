{
 "cells": [
  {
   "cell_type": "markdown",
   "metadata": {},
   "source": [
    "Reference:\n",
    "1. Encode categorical variables: http://pbpython.com/categorical-encoding.html"
   ]
  },
  {
   "cell_type": "code",
   "execution_count": 2,
   "metadata": {
    "collapsed": true,
    "scrolled": true
   },
   "outputs": [],
   "source": [
    "import pandas as pd\n",
    "import numpy as np\n",
    "import seaborn as sns\n",
    "import matplotlib.pylab as plt\n",
    "\n",
    "from sklearn.preprocessing import OrdinalEncoder\n",
    "from sklearn.impute import SimpleImputer\n",
    "\n",
    "from sklearn.linear_model import LinearRegression\n",
    "from sklearn.tree import DecisionTreeRegressor\n",
    "\n",
    "from sklearn.model_selection import train_test_split\n",
    "\n",
    "from sklearn.metrics import mean_squared_error\n",
    "\n",
    "%matplotlib inline"
   ]
  },
  {
   "cell_type": "code",
   "execution_count": 72,
   "metadata": {
    "collapsed": true
   },
   "outputs": [],
   "source": [
    "all_data, test_data = pd.read_csv('train.csv', index_col=0), pd.read_csv('test.csv', index_col=0)\n",
    "\n",
    "train_data, dev_data, train_label, dev_label = train_test_split(all_data.iloc[:, :-1], all_data.iloc[:, -1], test_size=0.3, random_state=42)\n",
    "cat_columns = train_data.dtypes[train_data.dtypes == 'object'].index.values"
   ]
  },
  {
   "cell_type": "code",
   "execution_count": 73,
   "metadata": {
    "collapsed": true
   },
   "outputs": [],
   "source": [
    "# imp = SimpleImputer(missing_values='NaN', strategy='most_frequent')\n",
    "imp = SimpleImputer(missing_values=np.nan, strategy='most_frequent')\n",
    "imp.fit(train_data)\n",
    "\n",
    "train_data = imp.transform(train_data)\n",
    "dev_data = imp.transform(dev_data)\n",
    "\n",
    "train_data = pd.DataFrame(train_data, columns=all_data.columns[:-1])\n",
    "dev_data = pd.DataFrame(dev_data, columns=all_data.columns[:-1])"
   ]
  },
  {
   "cell_type": "code",
   "execution_count": 76,
   "metadata": {
    "collapsed": true
   },
   "outputs": [
    {
     "data": {
      "text/html": [
       "<div>\n",
       "<style scoped>\n",
       "    .dataframe tbody tr th:only-of-type {\n",
       "        vertical-align: middle;\n",
       "    }\n",
       "\n",
       "    .dataframe tbody tr th {\n",
       "        vertical-align: top;\n",
       "    }\n",
       "\n",
       "    .dataframe thead th {\n",
       "        text-align: right;\n",
       "    }\n",
       "</style>\n",
       "<table border=\"1\" class=\"dataframe\">\n",
       "  <thead>\n",
       "    <tr style=\"text-align: right;\">\n",
       "      <th></th>\n",
       "      <th>MSSubClass</th>\n",
       "      <th>MSZoning</th>\n",
       "      <th>LotFrontage</th>\n",
       "      <th>LotArea</th>\n",
       "      <th>Street</th>\n",
       "      <th>Alley</th>\n",
       "      <th>LotShape</th>\n",
       "      <th>LandContour</th>\n",
       "      <th>Utilities</th>\n",
       "      <th>LotConfig</th>\n",
       "      <th>...</th>\n",
       "      <th>ScreenPorch</th>\n",
       "      <th>PoolArea</th>\n",
       "      <th>PoolQC</th>\n",
       "      <th>Fence</th>\n",
       "      <th>MiscFeature</th>\n",
       "      <th>MiscVal</th>\n",
       "      <th>MoSold</th>\n",
       "      <th>YrSold</th>\n",
       "      <th>SaleType</th>\n",
       "      <th>SaleCondition</th>\n",
       "    </tr>\n",
       "  </thead>\n",
       "  <tbody>\n",
       "    <tr>\n",
       "      <th>0</th>\n",
       "      <td>20</td>\n",
       "      <td>3</td>\n",
       "      <td>80</td>\n",
       "      <td>10400</td>\n",
       "      <td>1</td>\n",
       "      <td>0</td>\n",
       "      <td>3</td>\n",
       "      <td>3</td>\n",
       "      <td>0</td>\n",
       "      <td>4</td>\n",
       "      <td>...</td>\n",
       "      <td>0</td>\n",
       "      <td>0</td>\n",
       "      <td>0</td>\n",
       "      <td>2</td>\n",
       "      <td>2</td>\n",
       "      <td>0</td>\n",
       "      <td>5</td>\n",
       "      <td>2008</td>\n",
       "      <td>8</td>\n",
       "      <td>4</td>\n",
       "    </tr>\n",
       "    <tr>\n",
       "      <th>1</th>\n",
       "      <td>180</td>\n",
       "      <td>4</td>\n",
       "      <td>35</td>\n",
       "      <td>3675</td>\n",
       "      <td>1</td>\n",
       "      <td>0</td>\n",
       "      <td>3</td>\n",
       "      <td>3</td>\n",
       "      <td>0</td>\n",
       "      <td>4</td>\n",
       "      <td>...</td>\n",
       "      <td>0</td>\n",
       "      <td>0</td>\n",
       "      <td>0</td>\n",
       "      <td>2</td>\n",
       "      <td>2</td>\n",
       "      <td>0</td>\n",
       "      <td>5</td>\n",
       "      <td>2006</td>\n",
       "      <td>8</td>\n",
       "      <td>4</td>\n",
       "    </tr>\n",
       "    <tr>\n",
       "      <th>2</th>\n",
       "      <td>60</td>\n",
       "      <td>1</td>\n",
       "      <td>72</td>\n",
       "      <td>8640</td>\n",
       "      <td>1</td>\n",
       "      <td>0</td>\n",
       "      <td>3</td>\n",
       "      <td>3</td>\n",
       "      <td>0</td>\n",
       "      <td>4</td>\n",
       "      <td>...</td>\n",
       "      <td>0</td>\n",
       "      <td>0</td>\n",
       "      <td>0</td>\n",
       "      <td>2</td>\n",
       "      <td>2</td>\n",
       "      <td>0</td>\n",
       "      <td>6</td>\n",
       "      <td>2010</td>\n",
       "      <td>2</td>\n",
       "      <td>4</td>\n",
       "    </tr>\n",
       "    <tr>\n",
       "      <th>3</th>\n",
       "      <td>20</td>\n",
       "      <td>3</td>\n",
       "      <td>84</td>\n",
       "      <td>11670</td>\n",
       "      <td>1</td>\n",
       "      <td>0</td>\n",
       "      <td>0</td>\n",
       "      <td>3</td>\n",
       "      <td>0</td>\n",
       "      <td>0</td>\n",
       "      <td>...</td>\n",
       "      <td>0</td>\n",
       "      <td>0</td>\n",
       "      <td>0</td>\n",
       "      <td>2</td>\n",
       "      <td>2</td>\n",
       "      <td>0</td>\n",
       "      <td>3</td>\n",
       "      <td>2007</td>\n",
       "      <td>8</td>\n",
       "      <td>4</td>\n",
       "    </tr>\n",
       "    <tr>\n",
       "      <th>4</th>\n",
       "      <td>60</td>\n",
       "      <td>3</td>\n",
       "      <td>43</td>\n",
       "      <td>10667</td>\n",
       "      <td>1</td>\n",
       "      <td>0</td>\n",
       "      <td>1</td>\n",
       "      <td>3</td>\n",
       "      <td>0</td>\n",
       "      <td>1</td>\n",
       "      <td>...</td>\n",
       "      <td>0</td>\n",
       "      <td>0</td>\n",
       "      <td>0</td>\n",
       "      <td>2</td>\n",
       "      <td>2</td>\n",
       "      <td>0</td>\n",
       "      <td>4</td>\n",
       "      <td>2009</td>\n",
       "      <td>5</td>\n",
       "      <td>4</td>\n",
       "    </tr>\n",
       "  </tbody>\n",
       "</table>\n",
       "<p>5 rows × 79 columns</p>\n",
       "</div>"
      ],
      "text/plain": [
       "  MSSubClass  MSZoning LotFrontage LotArea  Street  Alley  LotShape  \\\n",
       "0         20         3          80   10400       1      0         3   \n",
       "1        180         4          35    3675       1      0         3   \n",
       "2         60         1          72    8640       1      0         3   \n",
       "3         20         3          84   11670       1      0         0   \n",
       "4         60         3          43   10667       1      0         1   \n",
       "\n",
       "   LandContour  Utilities  LotConfig      ...       ScreenPorch  PoolArea  \\\n",
       "0            3          0          4      ...                 0         0   \n",
       "1            3          0          4      ...                 0         0   \n",
       "2            3          0          4      ...                 0         0   \n",
       "3            3          0          0      ...                 0         0   \n",
       "4            3          0          1      ...                 0         0   \n",
       "\n",
       "   PoolQC  Fence  MiscFeature  MiscVal MoSold YrSold SaleType SaleCondition  \n",
       "0       0      2            2        0      5   2008        8             4  \n",
       "1       0      2            2        0      5   2006        8             4  \n",
       "2       0      2            2        0      6   2010        2             4  \n",
       "3       0      2            2        0      3   2007        8             4  \n",
       "4       0      2            2        0      4   2009        5             4  \n",
       "\n",
       "[5 rows x 79 columns]"
      ]
     },
     "execution_count": 76,
     "metadata": {},
     "output_type": "execute_result"
    }
   ],
   "source": [
    "def encode_category(data, cat_columns):\n",
    "    for col in cat_columns:\n",
    "        data[col] = data[col].astype(\"category\")\n",
    "        data[col] = data[col].cat.codes\n",
    "\n",
    "encode_category(train_data, cat_columns)\n",
    "encode_category(dev_data, cat_columns)"
   ]
  },
  {
   "cell_type": "code",
   "execution_count": 79,
   "metadata": {},
   "outputs": [
    {
     "data": {
      "text/plain": [
       "1680144269.7260275"
      ]
     },
     "execution_count": 79,
     "metadata": {},
     "output_type": "execute_result"
    }
   ],
   "source": [
    "from sklearn import tree\n",
    "from sklearn.metrics import mean_squared_error\n",
    "\n",
    "cls = tree.DecisionTreeRegressor()\n",
    "cls.fit(train_data, train_label)\n",
    "predicted_label = cls.predict(dev_data)\n",
    "mean_squared_error(predicted_label, dev_label)"
   ]
  },
  {
   "cell_type": "code",
   "execution_count": 82,
   "metadata": {},
   "outputs": [
    {
     "name": "stdout",
     "output_type": "stream",
     "text": [
      "[158500. 309000. 110500. 197500. 377500.  81000. 201800. 148500.  85500.\n",
      " 131500.]\n",
      "[154500 325000 115000 159000 315500  75500 311500 146000  84500 135500]\n"
     ]
    }
   ],
   "source": [
    "print(predicted_label[:10])\n",
    "print(dev_label[:10].values)"
   ]
  },
  {
   "cell_type": "markdown",
   "metadata": {},
   "source": [
    "# 1. Improvement one: to figure out the proper features.\n",
    "\n",
    "1.1 Analyzing the correlation between label and features."
   ]
  },
  {
   "cell_type": "code",
   "execution_count": 111,
   "metadata": {},
   "outputs": [],
   "source": [
    "cor = all_data.corr()\n",
    "\n",
    "threshold = 0.5\n",
    "label_name = 'SalePrice'\n",
    "cor_cols = cor.loc[(cor[label_name] >= threshold) | (cor[label_name] <= -threshold)].index.values\n",
    "\n",
    "# remove label from list\n",
    "cor_cols = cor_cols[:-1]"
   ]
  },
  {
   "cell_type": "code",
   "execution_count": 112,
   "metadata": {},
   "outputs": [
    {
     "data": {
      "text/plain": [
       "array(['OverallQual', 'YearBuilt', 'YearRemodAdd', 'TotalBsmtSF',\n",
       "       '1stFlrSF', 'GrLivArea', 'FullBath', 'TotRmsAbvGrd', 'GarageCars',\n",
       "       'GarageArea'], dtype=object)"
      ]
     },
     "execution_count": 112,
     "metadata": {},
     "output_type": "execute_result"
    }
   ],
   "source": [
    "cor_cols"
   ]
  },
  {
   "cell_type": "code",
   "execution_count": 116,
   "metadata": {},
   "outputs": [],
   "source": [
    "train_data_1 = train_data[cor_cols]\n",
    "dev_data_1 = dev_data[cor_cols]"
   ]
  },
  {
   "cell_type": "code",
   "execution_count": 120,
   "metadata": {},
   "outputs": [
    {
     "data": {
      "text/plain": [
       "((1022, 10), (438, 10))"
      ]
     },
     "execution_count": 120,
     "metadata": {},
     "output_type": "execute_result"
    }
   ],
   "source": [
    "train_data_1.shape, dev_data_1.shape"
   ]
  },
  {
   "cell_type": "code",
   "execution_count": 132,
   "metadata": {},
   "outputs": [
    {
     "name": "stdout",
     "output_type": "stream",
     "text": [
      "optimal value:  1163436825.8267667\n"
     ]
    },
    {
     "data": {
      "text/plain": [
       "[<matplotlib.lines.Line2D at 0x1a27633160>]"
      ]
     },
     "execution_count": 132,
     "metadata": {},
     "output_type": "execute_result"
    },
    {
     "data": {
      "image/png": "[encoded data removed]",
      "text/plain": [
       "<Figure size 432x288 with 1 Axes>"
      ]
     },
     "metadata": {},
     "output_type": "display_data"
    }
   ],
   "source": [
    "res = []\n",
    "for n_leaves in range(1, 50, 5):\n",
    "    cls = tree.DecisionTreeRegressor(min_samples_leaf=n_leaves, max_features=\"sqrt\")\n",
    "    cls.fit(train_data_1, train_label)\n",
    "    predicted_label = cls.predict(dev_data_1)\n",
    "    res.append(mean_squared_error(predicted_label, dev_label))\n",
    "    \n",
    "print(\"optimal value: \", np.min(res))\n",
    "plt.plot(np.arange(len(res)) * 5, res)"
   ]
  }
 ],
 "metadata": {
  "kernelspec": {
   "display_name": "Python 3",
   "language": "python",
   "name": "python3"
  },
  "language_info": {
   "codemirror_mode": {
    "name": "ipython",
    "version": 3
   },
   "file_extension": ".py",
   "mimetype": "text/x-python",
   "name": "python",
   "nbconvert_exporter": "python",
   "pygments_lexer": "ipython3",
   "version": "3.6.3"
  }
 },
 "nbformat": 4,
 "nbformat_minor": 2
}
